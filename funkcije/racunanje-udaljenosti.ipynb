{
 "cells": [
  {
   "cell_type": "code",
   "execution_count": 59,
   "metadata": {},
   "outputs": [],
   "source": [
    "import pandas as pd\n",
    "from math import radians, cos, sqrt"
   ]
  },
  {
   "cell_type": "code",
   "execution_count": 60,
   "metadata": {},
   "outputs": [],
   "source": [
    "def udaljenost_izmedju_koordinata(koordinate1, koordinate2):\n",
    "    R = 6371.0\n",
    "\n",
    "    sirina1_rad = radians(koordinate1[0])\n",
    "    duzina1_rad = radians(koordinate1[1])\n",
    "    sirina2_rad = radians(koordinate2[0])\n",
    "    duzina2_rad = radians(koordinate2[1])\n",
    "\n",
    "    razlika_sirina = sirina2_rad - sirina1_rad\n",
    "    razlika_duzina = duzina2_rad - duzina1_rad\n",
    "\n",
    "    x = razlika_duzina * cos((sirina1_rad + sirina2_rad) / 2)\n",
    "    y = razlika_sirina\n",
    "    distanca = sqrt(x**2 + y**2) * R\n",
    "\n",
    "    return distanca"
   ]
  },
  {
   "cell_type": "code",
   "execution_count": 61,
   "metadata": {},
   "outputs": [
    {
     "name": "stdout",
     "output_type": "stream",
     "text": [
      "Distanca: 5.817834994076896 km.\n"
     ]
    }
   ],
   "source": [
    "import ast\n",
    "df = pd.read_csv(\"data\\\\stajalista_sredjeno.csv\")\n",
    "\n",
    "lista_listi = df['Lista stanica'].apply(lambda x: ast.literal_eval(x))\n",
    "\n",
    "\n",
    "distanca = udaljenost_izmedju_koordinata(lista_listi[0][0], lista_listi[0][1])\n",
    "\n",
    "print(f\"Distanca: {distanca} km.\")"
   ]
  }
 ],
 "metadata": {
  "kernelspec": {
   "display_name": "Python 3",
   "language": "python",
   "name": "python3"
  },
  "language_info": {
   "codemirror_mode": {
    "name": "ipython",
    "version": 3
   },
   "file_extension": ".py",
   "mimetype": "text/x-python",
   "name": "python",
   "nbconvert_exporter": "python",
   "pygments_lexer": "ipython3",
   "version": "3.9.13"
  },
  "orig_nbformat": 4
 },
 "nbformat": 4,
 "nbformat_minor": 2
}
