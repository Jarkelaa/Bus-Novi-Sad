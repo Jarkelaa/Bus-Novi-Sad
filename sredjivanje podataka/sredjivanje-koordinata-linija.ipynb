{
 "cells": [
  {
   "cell_type": "code",
   "execution_count": 28,
   "metadata": {},
   "outputs": [],
   "source": [
    "import pandas as pd\n",
    "import re"
   ]
  },
  {
   "cell_type": "code",
   "execution_count": 29,
   "metadata": {},
   "outputs": [],
   "source": [
    "df = pd.read_csv(\"linije.csv\")\n",
    "\n",
    "df = df.reindex(columns=['ID linije', 'Lista stanica'])\n",
    "df = df.dropna()"
   ]
  },
  {
   "cell_type": "code",
   "execution_count": 30,
   "metadata": {},
   "outputs": [],
   "source": [
    "def sredi_koordinate(lista_koordinata):\n",
    "    lista_koordinata = re.findall(r\"\\d+\\.\\d+\", lista_koordinata)\n",
    "    return [(float(lista_koordinata[i]), float(lista_koordinata[i+1])) for i in range(0, len(lista_koordinata), 2)]"
   ]
  },
  {
   "cell_type": "code",
   "execution_count": 31,
   "metadata": {},
   "outputs": [],
   "source": [
    "df['Lista stanica'] = df['Lista stanica'].apply(lambda x : sredi_koordinate(x))"
   ]
  },
  {
   "cell_type": "code",
   "execution_count": 32,
   "metadata": {},
   "outputs": [
    {
     "name": "stdout",
     "output_type": "stream",
     "text": [
      "  ID linije                                      Lista stanica\n",
      "0        1A  [(45.30263703365396, 19.824762046337128), (45....\n",
      "1        1B  [(45.238521791961716, 19.848043620586395), (45...\n",
      "2       1ZA  [(45.30130013579852, 19.807524472398654), (45....\n",
      "3       1ZB  [(45.238522295606344, 19.84807696934695), (45....\n",
      "4        2A  [(45.2550983486083, 19.841617047786713), (45.2...\n"
     ]
    }
   ],
   "source": [
    "df.to_csv(\"linije.csv\", index=False)"
   ]
  }
 ],
 "metadata": {
  "kernelspec": {
   "display_name": "Python 3",
   "language": "python",
   "name": "python3"
  },
  "language_info": {
   "codemirror_mode": {
    "name": "ipython",
    "version": 3
   },
   "file_extension": ".py",
   "mimetype": "text/x-python",
   "name": "python",
   "nbconvert_exporter": "python",
   "pygments_lexer": "ipython3",
   "version": "3.9.13"
  },
  "orig_nbformat": 4
 },
 "nbformat": 4,
 "nbformat_minor": 2
}
