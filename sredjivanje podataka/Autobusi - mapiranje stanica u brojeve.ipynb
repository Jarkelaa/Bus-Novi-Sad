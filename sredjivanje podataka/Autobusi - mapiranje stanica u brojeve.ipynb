{
 "cells": [
  {
   "cell_type": "code",
   "execution_count": null,
   "metadata": {},
   "outputs": [],
   "source": [
    "import pandas as pd"
   ]
  },
  {
   "cell_type": "code",
   "execution_count": null,
   "metadata": {},
   "outputs": [],
   "source": [
    "df = pd.read_csv('/Users/aleksandarzdravkovic/Bus - GitHub/Bus-Novi-Sad/podaci/stajalista_u_poretku.csv')"
   ]
  },
  {
   "cell_type": "code",
   "execution_count": null,
   "metadata": {},
   "outputs": [],
   "source": [
    "import ast\n",
    "df['Lista stanica'] = df['Lista stanica'].apply(ast.literal_eval)\n",
    "skup_stanica = []\n",
    "for value in df['Lista stanica']:\n",
    "    skup_stanica.extend(value)"
   ]
  },
  {
   "cell_type": "code",
   "execution_count": null,
   "metadata": {},
   "outputs": [],
   "source": [
    "id_stanice = {}\n",
    "cnt = 0\n",
    "for stanica in skup_stanica:\n",
    "    if stanica not in id_stanice:\n",
    "        id_stanice[stanica] = cnt\n",
    "        cnt += 1"
   ]
  },
  {
   "cell_type": "code",
   "execution_count": null,
   "metadata": {},
   "outputs": [],
   "source": [
    "df['Lista stanica'] = df['Lista stanica'].apply(lambda x: [id_stanice[stanica] for stanica in x])"
   ]
  },
  {
   "cell_type": "code",
   "execution_count": null,
   "metadata": {},
   "outputs": [],
   "source": [
    "df.to_csv('/Users/aleksandarzdravkovic/Bus - GitHub/Bus-Novi-Sad/podaci/stajalista_u_poretku-kodirano.csv', index=False)"
   ]
  },
  {
   "cell_type": "code",
   "execution_count": null,
   "metadata": {},
   "outputs": [],
   "source": [
    "import csv\n",
    "\n",
    "csv_file = '/Users/aleksandarzdravkovic/Bus - GitHub/Bus-Novi-Sad/podaci/stajalista_koordinate-kodirano.csv'\n",
    "\n",
    "# Define the header for the CSV file\n",
    "header = ['station_id', 'x', 'y']\n",
    "\n",
    "# Write the dictionary to the CSV file\n",
    "with open(csv_file, 'w', newline='') as file:\n",
    "    writer = csv.writer(file)\n",
    "\n",
    "    # Write the header\n",
    "    writer.writerow(header)\n",
    "\n",
    "    # Write each item in the dictionary as a row in the CSV file\n",
    "    for (x, y), station_id in id_stanice.items():\n",
    "        writer.writerow([station_id, x, y])"
   ]
  },
  {
   "attachments": {},
   "cell_type": "markdown",
   "metadata": {},
   "source": []
  }
 ],
 "metadata": {
  "kernelspec": {
   "display_name": "tensorflow",
   "language": "python",
   "name": "python3"
  },
  "language_info": {
   "codemirror_mode": {
    "name": "ipython",
    "version": 3
   },
   "file_extension": ".py",
   "mimetype": "text/x-python",
   "name": "python",
   "nbconvert_exporter": "python",
   "pygments_lexer": "ipython3",
   "version": "3.9.13"
  },
  "orig_nbformat": 4
 },
 "nbformat": 4,
 "nbformat_minor": 2
}
