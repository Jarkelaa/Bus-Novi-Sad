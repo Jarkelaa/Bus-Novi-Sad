{
 "cells": [
  {
   "cell_type": "code",
   "execution_count": null,
   "metadata": {
    "collapsed": true
   },
   "outputs": [],
   "source": [
    "import re\n",
    "import pandas as pd\n",
    "\n",
    "df = pd.read_csv(\"linije.csv\")\n",
    "\n",
    "def sredi_koordinate(lista_koordinata):\n",
    "    lista_koordinata = re.findall(r\"\\d+.\\d+\", lista_koordinata)\n",
    "    return [(float(lista_koordinata[i]), float(lista_koordinata[i + 1])) for i in range(0, len(lista_koordinata), 2)]\n",
    "\n",
    "df['Lista skretanja'] = df['Lista skretanja'].apply(lambda x: sredi_koordinate(x))\n",
    "df.to_csv(\"linije_sredjeno.csv\", index=False)\n",
    "df = pd.read_csv(\"stajalista.csv\")"
   ]
  },
  {
   "cell_type": "code",
   "execution_count": null,
   "outputs": [],
   "source": [
    "def sredi_koordinate(lista_koordinata):\n",
    "    lista_koordinata = re.findall(r\"\\d+\\.\\d+\", lista_koordinata)\n",
    "    set_stanica = set((float(lista_koordinata[i + 1]), float(lista_koordinata[i])) for i in range(0, len(lista_koordinata), 2))\n",
    "    return list(set_stanica)\n",
    "\n",
    "df['Lista stanica'] = df['Lista stanica'].apply(lambda x: sredi_koordinate(x))\n",
    "df.to_csv(\"stajalista_sredjeno.csv\", index=False)"
   ],
   "metadata": {
    "collapsed": false
   }
  }
 ],
 "metadata": {
  "kernelspec": {
   "display_name": "Python 3",
   "language": "python",
   "name": "python3"
  },
  "language_info": {
   "codemirror_mode": {
    "name": "ipython",
    "version": 2
   },
   "file_extension": ".py",
   "mimetype": "text/x-python",
   "name": "python",
   "nbconvert_exporter": "python",
   "pygments_lexer": "ipython2",
   "version": "2.7.6"
  }
 },
 "nbformat": 4,
 "nbformat_minor": 0
}
