{
 "cells": [
  {
   "cell_type": "code",
   "execution_count": null,
   "metadata": {},
   "outputs": [],
   "source": [
    "import pandas as pd\n",
    "from math import radians, cos, sqrt"
   ]
  },
  {
   "cell_type": "code",
   "execution_count": 1,
   "metadata": {},
   "outputs": [],
   "source": [
    "x = 1"
   ]
  },
  {
   "cell_type": "code",
   "execution_count": null,
   "metadata": {},
   "outputs": [],
   "source": [
    "def udaljenost_izmedju_koordinata(koordinate1, koordinate2):\n",
    "    R = 6371.0\n",
    "\n",
    "    sirina1_rad = radians(koordinate1[0])\n",
    "    duzina1_rad = radians(koordinate1[1])\n",
    "    sirina2_rad = radians(koordinate2[0])\n",
    "    duzina2_rad = radians(koordinate2[1])\n",
    "\n",
    "    razlika_sirina = sirina2_rad - sirina1_rad\n",
    "    razlika_duzina = duzina2_rad - duzina1_rad\n",
    "\n",
    "    x = razlika_duzina * cos((sirina1_rad + sirina2_rad) / 2)\n",
    "    y = razlika_sirina\n",
    "    distanca = sqrt(x**2 + y**2) * R\n",
    "\n",
    "    return distanca"
   ]
  },
  {
   "cell_type": "code",
   "execution_count": null,
   "metadata": {},
   "outputs": [],
   "source": [
    "import ast\n",
    "df = pd.read_csv(\"stajalista_sredjeno.csv\")\n",
    "\n",
    "lista_listi = df['Lista stanica'].apply(lambda x: ast.literal_eval(x))\n",
    "\n",
    "\n",
    "distanca = udaljenost_izmedju_koordinata(lista_listi[0][0], lista_listi[0][1])\n",
    "\n",
    "print(f\"Distanca: {distanca} km.\")"
   ]
  },
  {
   "cell_type": "code",
   "execution_count": null,
   "metadata": {
    "collapsed": false
   },
   "outputs": [],
   "source": [
    "dfTackica = pd.read_csv(\"linije_sredjeno.csv\")\n",
    "\n",
    "lista_tackica = dfTackica['Lista skretanja'].apply(lambda x: ast.literal_eval(x))\n"
   ]
  },
  {
   "cell_type": "code",
   "execution_count": null,
   "metadata": {
    "collapsed": false
   },
   "outputs": [],
   "source": [
    "cnt = 0\n",
    "mapiranje = {}\n",
    "for line in lista_listi:\n",
    "    tackice = lista_tackica[cnt]\n",
    "    for stanica in line:\n",
    "        min_dist = 100000000\n",
    "        min_tacka = None\n",
    "        for tacka in tackice:\n",
    "            dist = udaljenost_izmedju_koordinata(stanica, tacka)\n",
    "            if dist < min_dist:\n",
    "                min_dist = dist\n",
    "                min_tacka = tacka\n",
    "        mapiranje[min_tacka] = stanica\n",
    "    cnt += 1\n",
    "\n",
    "print(mapiranje)"
   ]
  },
  {
   "cell_type": "code",
   "execution_count": null,
   "metadata": {},
   "outputs": [],
   "source": [
    "lista_stajalista_u_poretku = {}\n",
    "lista_linija = df['ID linije'].tolist()\n",
    "cnt = 0\n",
    "for linija in lista_tackica:\n",
    "    lista_stajalista_u_poretku[lista_linija[cnt]] = []\n",
    "    for tacka in linija:\n",
    "        if tacka in mapiranje:\n",
    "            lista_stajalista_u_poretku[lista_linija[cnt]].append(mapiranje[tacka])\n",
    "    cnt += 1\n"
   ]
  },
  {
   "cell_type": "code",
   "execution_count": null,
   "metadata": {},
   "outputs": [],
   "source": [
    "print(lista_stajalista_u_poretku['1A'])\n"
   ]
  },
  {
   "cell_type": "code",
   "execution_count": null,
   "metadata": {},
   "outputs": [],
   "source": [
    "def promeni_stajalista(red):\n",
    "    red['Lista stanica'] = str(lista_stajalista_u_poretku[red['ID linije']])\n",
    "    return red\n",
    "df.apply(lambda x: promeni_stajalista(x), axis=1)"
   ]
  },
  {
   "cell_type": "code",
   "execution_count": null,
   "metadata": {},
   "outputs": [],
   "source": [
    "df.to_csv(\"stajalista_u_poretku.csv\", index=False)"
   ]
  }
 ],
 "metadata": {
  "kernelspec": {
   "display_name": "tensorflow",
   "language": "python",
   "name": "python3"
  },
  "language_info": {
   "codemirror_mode": {
    "name": "ipython",
    "version": 3
   },
   "file_extension": ".py",
   "mimetype": "text/x-python",
   "name": "python",
   "nbconvert_exporter": "python",
   "pygments_lexer": "ipython3",
   "version": "3.9.13"
  },
  "orig_nbformat": 4
 },
 "nbformat": 4,
 "nbformat_minor": 2
}
