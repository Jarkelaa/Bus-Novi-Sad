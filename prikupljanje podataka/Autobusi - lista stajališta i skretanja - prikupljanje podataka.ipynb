{
 "cells": [
  {
   "cell_type": "code",
   "execution_count": null,
   "outputs": [],
   "source": [
    "import re\n",
    "\n",
    "id_to_line_string = \"\"\" <li><a id=\"1\" data-toggle=\"tooltip\" class=\"button-linija grad ablin1\" title=\"KLISA - CENTAR - LIMAN 1\">   1A</a></li>\n",
    "<li><a id=\"2\" data-toggle=\"tooltip\" class=\"button-linija grad ablin2\" title=\"LIMAN 1 - CENTAR - KLISA\">   1B</a></li>\n",
    "<li><a id=\"232\" data-toggle=\"tooltip\" class=\"button-linija grad ablin232\" title=\"KLISA (ZATVOR) - CENTAR - LIMAN 1\">   1ZA</a></li>\n",
    "<li><a id=\"233\" data-toggle=\"tooltip\" class=\"button-linija grad ablin233\" title=\"LIMAN 1 - CENTAR - KLISA (ZATVOR)\">   1ZB</a></li>\n",
    "<li><a id=\"3\" data-toggle=\"tooltip\" class=\"button-linija grad ablin3\" title=\"CENTAR - NOVO NASELJE\">   2A</a></li>\n",
    "<li><a id=\"4\" data-toggle=\"tooltip\" class=\"button-linija grad ablin4\" title=\"NOVO NASELJE - CENTAR\">   2B</a></li>\n",
    "<li><a id=\"5\" data-toggle=\"tooltip\" class=\"button-linija grad ablin5\" title=\"PETROVARADIN - CENTAR - DETELINARA\">   3A</a></li>\n",
    "<li><a id=\"6\" data-toggle=\"tooltip\" class=\"button-linija grad ablin6\" title=\"DETELINARA - CENTAR - PETROVARADIN\">   3B</a></li>\n",
    "<li><a id=\"241\" data-toggle=\"tooltip\" class=\"button-linija grad ablin241\" title=\"ŽELEZNIČKA STANICA - POBEDA\">   3AA</a></li>\n",
    "<li><a id=\"242\" data-toggle=\"tooltip\" class=\"button-linija grad ablin242\" title=\"POBEDA - ŽELEZNIČKA STANICA\">   3AB</a></li>\n",
    "<li><a id=\"261\" data-toggle=\"tooltip\" class=\"button-linija grad ablin261\" title=\"PETROVARADIN (OSNOVNA ŠKOLA JOVAN DUČIĆ) - PUCKAROŠ\">   3BA</a></li>\n",
    "<li><a id=\"262\" data-toggle=\"tooltip\" class=\"button-linija grad ablin262\" title=\"PUCKAROŠ - PETROVARADIN (OSNOVNA ŠKOLA JOVAN DUČIĆ)\">   3BB</a></li>\n",
    "<li><a id=\"7\" data-toggle=\"tooltip\" class=\"button-linija grad ablin7\" title=\"LIMAN 4 - CENTAR - ŽELEZNIČKA STANICA\">   4A</a></li>\n",
    "<li><a id=\"8\" data-toggle=\"tooltip\" class=\"button-linija grad ablin8\" title=\"ŽELEZNIČKA STANICA - CENTAR - LIMAN 4\">   4B</a></li>\n",
    "<li><a id=\"9\" data-toggle=\"tooltip\" class=\"button-linija grad ablin9\" title=\"TEMERINSKI PUT - CENTAR - AVIJATIČARSKO NASELJE\">   5A</a></li>\n",
    "<li><a id=\"10\" data-toggle=\"tooltip\" class=\"button-linija grad ablin10\" title=\"AVIJATIČARSKO NASELJE - CENTAR - TEMERINSKI PUT\">   5B</a></li>\n",
    "<li><a id=\"69\" data-toggle=\"tooltip\" class=\"button-linija grad ablin69\" title=\"ŽELEZNIČKA STANICA - NAJLON - TEMERINSKI PUT\">   5NA</a></li>\n",
    "<li><a id=\"70\" data-toggle=\"tooltip\" class=\"button-linija grad ablin70\" title=\"TEMERINSKI PUT - NAJLON - ŽELEZNIČKA STANICA\">   5NB</a></li>\n",
    "<li><a id=\"11\" data-toggle=\"tooltip\" class=\"button-linija grad ablin11\" title=\"PODBARA - CENTAR - ADICE\">   6A</a></li>\n",
    "<li><a id=\"12\" data-toggle=\"tooltip\" class=\"button-linija grad ablin12\" title=\"ADICE - CENTAR - PODBARA\">   6B</a></li>\n",
    "<li><a id=\"234\" data-toggle=\"tooltip\" class=\"button-linija grad ablin234\" title=\"ADICE - VETERNIK (OSNOVNA ŠKOLA MARIJA TRANDAFIL)\">   6AA</a></li>\n",
    "<li><a id=\"235\" data-toggle=\"tooltip\" class=\"button-linija grad ablin235\" title=\"VETERNIK (OSNOVNA ŠKOLA MARIJA TRANDAFIL) - ADICE\">   6AB</a></li>\n",
    "<li><a id=\"13\" data-toggle=\"tooltip\" class=\"button-linija grad ablin13\" title=\"NOVO NASELJE - ŽELEZNIČKA STANICA - FUTOŠKA PIJACA - LIMAN 4 - NOVO NASELJE\">   7A</a></li>\n",
    "<li><a id=\"14\" data-toggle=\"tooltip\" class=\"button-linija grad ablin14\" title=\"NOVO NASELJE - LIMAN 4 - FUTOŠKA PIJACA - ŽELEZNIČKA STANICA - NOVO NASELJE\">   7B</a></li>\n",
    "<li><a id=\"15\" data-toggle=\"tooltip\" class=\"button-linija grad ablin15\" title=\"NOVO NASELJE - CENTAR - LIMAN 1\">   8A</a></li>\n",
    "<li><a id=\"16\" data-toggle=\"tooltip\" class=\"button-linija grad ablin16\" title=\"LIMAN 1 - CENTAR - NOVO NASELJE\">   8B</a></li>\n",
    "<li><a id=\"17\" data-toggle=\"tooltip\" class=\"button-linija grad ablin17\" title=\"NOVO NASELJE - LIMAN - PETROVARADIN\">   9A</a></li>\n",
    "<li><a id=\"18\" data-toggle=\"tooltip\" class=\"button-linija grad ablin18\" title=\"PETROVARADIN - LIMAN - NOVO NASELJE\">   9B</a></li>\n",
    "<li><a id=\"259\" data-toggle=\"tooltip\" class=\"button-linija grad ablin259\" title=\"NOVO NASELJE - LIMAN - PETROVARADIN (ALIBEGOVAC)\">   9AA</a></li>\n",
    "<li><a id=\"260\" data-toggle=\"tooltip\" class=\"button-linija grad ablin260\" title=\"PETROVARADIN (ALIBEGOVAC) - LIMAN - NOVO NASELJE\">   9AB</a></li>\n",
    "<li><a id=\"19\" data-toggle=\"tooltip\" class=\"button-linija grad ablin19\" title=\"CENTAR - INDUSTRIJSKA ZONA JUG \">  10A</a></li>\n",
    "<li><a id=\"20\" data-toggle=\"tooltip\" class=\"button-linija grad ablin20\" title=\"INDUSTRIJSKA ZONA JUG - CENTAR\">  10B</a></li>\n",
    "<li><a id=\"21\" data-toggle=\"tooltip\" class=\"button-linija grad ablin21\" title=\"ŽELEZNIČKA STANICA - BOLNICA - LIMAN - ŽELEZNIČKA STANICA\">  11A</a></li>\n",
    "<li><a id=\"22\" data-toggle=\"tooltip\" class=\"button-linija grad ablin22\" title=\"ŽELEZNIČKA STANICA - LIMAN - BOLNICA - ŽELEZNIČKA STANICA\">  11B</a></li>\n",
    "<li><a id=\"23\" data-toggle=\"tooltip\" class=\"button-linija grad ablin23\" title=\"CENTAR - TELEP\">  12A</a></li>\n",
    "<li><a id=\"24\" data-toggle=\"tooltip\" class=\"button-linija grad ablin24\" title=\"TELEP - CENTAR\">  12B</a></li>\n",
    "<li><a id=\"239\" data-toggle=\"tooltip\" class=\"button-linija grad ablin239\" title=\"DETELINARA - LIMAN - UNIVERZITET\">  13A</a></li>\n",
    "<li><a id=\"240\" data-toggle=\"tooltip\" class=\"button-linija grad ablin240\" title=\"UNIVERZITET - LIMAN - DETELINARA\">  13B</a></li>\n",
    "<li><a id=\"25\" data-toggle=\"tooltip\" class=\"button-linija grad ablin25\" title=\"CENTAR - SAJLOVO\">  14A</a></li>\n",
    "<li><a id=\"26\" data-toggle=\"tooltip\" class=\"button-linija grad ablin26\" title=\"SAJLOVO - CENTAR\">  14B</a></li>\n",
    "<li><a id=\"27\" data-toggle=\"tooltip\" class=\"button-linija grad ablin27\" title=\"CENTAR - INDUSTRIJSKA ZONA SEVER\">  15A</a></li>\n",
    "<li><a id=\"28\" data-toggle=\"tooltip\" class=\"button-linija grad ablin28\" title=\"INDUSTRIJSKA ZONA SEVER - CENTAR\">  15B</a></li>\n",
    "<li><a id=\"29\" data-toggle=\"tooltip\" class=\"button-linija grad ablin29\" title=\"ŽELEZNIČKA STANICA - PRISTANIŠNA ZONA\">  16A</a></li>\n",
    "<li><a id=\"30\" data-toggle=\"tooltip\" class=\"button-linija grad ablin30\" title=\"PRISTANIŠNA ZONA - ŽELEZNIČKA STANICA\">  16B</a></li>\n",
    "<li><a id=\"31\" data-toggle=\"tooltip\" class=\"button-linija grad ablin31\" title=\"BIG - SUPER VERO - CENTAR - ŽELEZNIČKA STANICA - SUPER VERO - BIG CENTAR\">  17A</a></li>\n",
    "<li><a id=\"243\" data-toggle=\"tooltip\" class=\"button-linija grad ablin243\" title=\"NOVO NASELJE – DETELINARA – CENTAR – LIMAN 4 – NOVO NASELJE\">  18A</a></li>\n",
    "<li><a id=\"244\" data-toggle=\"tooltip\" class=\"button-linija grad ablin244\" title=\"NOVO NASELJE – LIMAN 4 – CENTAR - DETELINARA – NOVO NASELJE\">  18B</a></li>\n",
    "<li><a id=\"267\" data-toggle=\"tooltip\" class=\"button-linija grad ablin267\" title=\"ŽELEZNIČKA STANICA - MIŠELUK (BOLNICA)\">  19A</a></li>\n",
    "<li><a id=\"268\" data-toggle=\"tooltip\" class=\"button-linija grad ablin268\" title=\"MIŠELUK (BOLNICA) - ŽELEZNIČKA STANICA\">  19B</a></li>\n",
    "<li><a id=\"255\" data-toggle=\"tooltip\" class=\"button-linija grad ablin255\" title=\"ŽELEZNIČKA STANICA - LESNINA\">  20A</a></li>\n",
    "<li><a id=\"256\" data-toggle=\"tooltip\" class=\"button-linija grad ablin256\" title=\"LESNINA - ŽELEZNIČKA STANICA\">  20B</a></li>\n",
    "<li><a id=\"33\" data-toggle=\"tooltip\" class=\"button-linija grad ablin33\" title=\"NOVI SAD (ŽELEZNIČKA STANICA) - ŠANGAJ\">  21A</a></li>\n",
    "<li><a id=\"34\" data-toggle=\"tooltip\" class=\"button-linija grad ablin34\" title=\"ŠANGAJ - NOVI SAD (ŽELEZNIČKA STANICA)\">  21B</a></li>\n",
    "<li><a id=\"269\" data-toggle=\"tooltip\" class=\"button-linija grad ablin269\" title=\"NOVI SAD - ZONA SEVER 4\">  25A</a></li>\n",
    "<li><a id=\"270\" data-toggle=\"tooltip\" class=\"button-linija grad ablin270\" title=\"ZONA SEVER 4 - NOVI SAD\">  25B</a></li>\n",
    "<li><a id=\"81\" data-toggle=\"tooltip\" class=\"button-linija grad ablin81\" title=\"NOVI SAD (ŽELEZNIČKA STANICA) - SREMSKA  KAMENICA (VOJINOVO)\">  68A</a></li>\n",
    "<li><a id=\"82\" data-toggle=\"tooltip\" class=\"button-linija grad ablin82\" title=\"SREMSKA KAMENICA (VOJINOVO) - NOVI SAD (ŽELEZNIČKA STANICA) \">  68B</a></li>\n",
    "<li><a id=\"83\" data-toggle=\"tooltip\" class=\"button-linija grad ablin83\" title=\"NOVI SAD (ŽELEZNIČKA STANICA) - SREMSKA KAMENICA (ČARDAK)\">  69A</a></li>\n",
    "<li><a id=\"84\" data-toggle=\"tooltip\" class=\"button-linija grad ablin84\" title=\"SREMSKA KAMENICA (ČARDAK) - NOVI SAD (ŽELEZNIČKA STANICA) \">  69B</a></li>\n",
    "<li><a id=\"85\" data-toggle=\"tooltip\" class=\"button-linija grad ablin85\" title=\"NOVI SAD (ŽELEZNIČKA STANICA) - SREMSKA KAMENICA (BOCKE)\">  71A</a></li>\n",
    "<li><a id=\"86\" data-toggle=\"tooltip\" class=\"button-linija grad ablin86\" title=\"SREMSKA KAMENICA (BOCKE) - NOVI SAD (ŽELEZNIČKA STANICA)\">  71B</a></li>\n",
    "\n",
    "<li><a id=\"35\" data-toggle=\"tooltip\" class=\"button-linija prigrad ablin35\" title=\"NOVI SAD (ŽELEZNIČKA STANICA) - KAĆ\">  22A</a></li>\n",
    "<li><a id=\"36\" data-toggle=\"tooltip\" class=\"button-linija prigrad ablin36\" title=\"KAĆ - NOVI SAD (ŽELEZNIČKA STANICA)\">  22B</a></li>\n",
    "<li><a id=\"37\" data-toggle=\"tooltip\" class=\"button-linija prigrad ablin37\" title=\"NOVI SAD (ŽELEZNIČKA STANICA) - BUDISAVA\">  23A</a></li>\n",
    "<li><a id=\"38\" data-toggle=\"tooltip\" class=\"button-linija prigrad ablin38\" title=\"BUDISAVA - NOVI SAD (ŽELEZNIČKA STANICA)\">  23B</a></li>\n",
    "<li><a id=\"39\" data-toggle=\"tooltip\" class=\"button-linija prigrad ablin39\" title=\"NOVI SAD (ŽELEZNIČKA STANICA) - KOVILJ\">  24A</a></li>\n",
    "<li><a id=\"40\" data-toggle=\"tooltip\" class=\"button-linija prigrad ablin40\" title=\"KOVILJ - NOVI SAD (ŽELEZNIČKA STANICA)\">  24B</a></li>\n",
    "<li><a id=\"42\" data-toggle=\"tooltip\" class=\"button-linija prigrad ablin42\" title=\"NOVI SAD (ŽELEZNIČKA STANICA) - PEJIĆEVI SALAŠI\">  30A</a></li>\n",
    "<li><a id=\"43\" data-toggle=\"tooltip\" class=\"button-linija prigrad ablin43\" title=\"PEJIĆEVI SALAŠI - NOVI SAD (ŽELEZNIČKA STANICA)\">  30B</a></li>\n",
    "<li><a id=\"50\" data-toggle=\"tooltip\" class=\"button-linija prigrad ablin50\" title=\"NOVI SAD (ŽELEZNIČKA STANICA)  - ČENEJ\">  35A</a></li>\n",
    "<li><a id=\"51\" data-toggle=\"tooltip\" class=\"button-linija prigrad ablin51\" title=\"ČENEJ - NOVI SAD (ŽELEZNIČKA STANICA) \">  35B</a></li>\n",
    "<li><a id=\"236\" data-toggle=\"tooltip\" class=\"button-linija prigrad ablin236\" title=\"NOVI SAD (ŽELEZNIČKA STANICA) - ČENEJ - LIS\">  35CLA</a></li>\n",
    "<li><a id=\"238\" data-toggle=\"tooltip\" class=\"button-linija prigrad ablin238\" title=\"ČENEJ - LIS - NOVI SAD (ŽELEZNIČKA STANICA)\">  35CLB</a></li>\n",
    "<li><a id=\"52\" data-toggle=\"tooltip\" class=\"button-linija prigrad ablin52\" title=\"NOVI SAD (ŽELEZNIČKA STANICA) - RUMENKA\">  41A</a></li>\n",
    "<li><a id=\"53\" data-toggle=\"tooltip\" class=\"button-linija prigrad ablin53\" title=\"RUMENKA - NOVI SAD (ŽELEZNIČKA STANICA)\">  41B</a></li>\n",
    "<li><a id=\"54\" data-toggle=\"tooltip\" class=\"button-linija prigrad ablin54\" title=\"NOVI SAD (ŽELEZNIČKA STANICA) - KISAČ\">  42A</a></li>\n",
    "<li><a id=\"55\" data-toggle=\"tooltip\" class=\"button-linija prigrad ablin55\" title=\"KISAČ - NOVI SAD (ŽELEZNIČKA STANICA)\">  42B</a></li>\n",
    "<li><a id=\"56\" data-toggle=\"tooltip\" class=\"button-linija prigrad ablin56\" title=\"NOVI SAD (ŽELEZNIČKA STANICA) - STEPANOVIĆEVO\">  43A</a></li>\n",
    "<li><a id=\"57\" data-toggle=\"tooltip\" class=\"button-linija prigrad ablin57\" title=\"STEPANOVIĆEVO - NOVI SAD (ŽELEZNIČKA STANICA)\">  43B</a></li>\n",
    "<li><a id=\"251\" data-toggle=\"tooltip\" class=\"button-linija prigrad ablin251\" title=\"ŽELEZNIČKA STANICA - VETERNIK - SAJLOVO - ŽELEZNIČKA STANICA\">  51A</a></li>\n",
    "<li><a id=\"252\" data-toggle=\"tooltip\" class=\"button-linija prigrad ablin252\" title=\"ŽELEZNIČKA STANICA - SAJLOVO - VETERNIK - ŽELEZNIČKA STANICA\">  51B</a></li>\n",
    "<li><a id=\"58\" data-toggle=\"tooltip\" class=\"button-linija prigrad ablin58\" title=\"NOVI SAD (ŽELEZNIČKA STANICA) - VETERNIK\">  52A</a></li>\n",
    "<li><a id=\"59\" data-toggle=\"tooltip\" class=\"button-linija prigrad ablin59\" title=\"VETERNIK - NOVI SAD (ŽELEZNIČKA STANICA)\">  52B</a></li>\n",
    "<li><a id=\"60\" data-toggle=\"tooltip\" class=\"button-linija prigrad ablin60\" title=\"NOVI SAD (ŽELEZNIČKA STANICA) - FUTOG STARI\">  53A</a></li>\n",
    "<li><a id=\"61\" data-toggle=\"tooltip\" class=\"button-linija prigrad ablin61\" title=\"FUTOG STARI - NOVI SAD (ŽELEZNIČKA STANICA)\">  53B</a></li>\n",
    "<li><a id=\"62\" data-toggle=\"tooltip\" class=\"button-linija prigrad ablin62\" title=\"NOVI SAD (ŽELEZNIČKA STANICA) - FUTOG (GRMEČKA)\">  54A</a></li>\n",
    "<li><a id=\"63\" data-toggle=\"tooltip\" class=\"button-linija prigrad ablin63\" title=\"FUTOG (GRMEČKA) - NOVI SAD (ŽELEZNIČKA STANICA)\">  54B</a></li>\n",
    "<li><a id=\"65\" data-toggle=\"tooltip\" class=\"button-linija prigrad ablin65\" title=\"NOVI SAD (ŽELEZNIČKA STANICA) - FUTOG (BRAĆE BOŠNJAK)\">  55A</a></li>\n",
    "<li><a id=\"66\" data-toggle=\"tooltip\" class=\"button-linija prigrad ablin66\" title=\"FUTOG (BRAĆE BOŠNJAK) - NOVI SAD (ŽELEZNIČKA STANICA)\">  55B</a></li>\n",
    "<li><a id=\"67\" data-toggle=\"tooltip\" class=\"button-linija prigrad ablin67\" title=\"NOVI SAD (ŽELEZNIČKA STANICA) - BEGEČ\">  56A</a></li>\n",
    "<li><a id=\"68\" data-toggle=\"tooltip\" class=\"button-linija prigrad ablin68\" title=\"BEGEČ - NOVI SAD (ŽELEZNIČKA STANICA)\">  56B</a></li>\n",
    "<li><a id=\"79\" data-toggle=\"tooltip\" class=\"button-linija prigrad ablin79\" title=\"NOVI SAD (ŽELEZNIČKA STANICA) - BUKOVAC\">  64A</a></li>\n",
    "<li><a id=\"80\" data-toggle=\"tooltip\" class=\"button-linija prigrad ablin80\" title=\"BUKOVAC - NOVI SAD (ŽELEZNIČKA STANICA) \">  64B</a></li>\n",
    "<li><a id=\"87\" data-toggle=\"tooltip\" class=\"button-linija prigrad ablin87\" title=\"NOVI SAD (ŽELEZNIČKA STANICA) - SREMSKA KAMENICA (PARAGOVO)\">  72A</a></li>\n",
    "<li><a id=\"88\" data-toggle=\"tooltip\" class=\"button-linija prigrad ablin88\" title=\"SREMSKA KAMENICA (PARAGOVO) - NOVI SAD (ŽELEZNIČKA STANICA)\">  72B</a></li>\n",
    "<li><a id=\"89\" data-toggle=\"tooltip\" class=\"button-linija prigrad ablin89\" title=\"NOVI SAD (ŽELEZNIČKA STANICA) - SREMSKA KAMENICA (MOŠINA VILA)\">  73A</a></li>\n",
    "<li><a id=\"90\" data-toggle=\"tooltip\" class=\"button-linija prigrad ablin90\" title=\"SREMSKA KAMENICA (MOŠINA VILA) - NOVI SAD (ŽELEZNIČKA STANICA)\">  73B</a></li>\n",
    "<li><a id=\"92\" data-toggle=\"tooltip\" class=\"button-linija prigrad ablin92\" title=\"NOVI SAD (ŽELEZNIČKA STANICA) - SREMSKA KAMENICA (POPOVICA)\">  74A</a></li>\n",
    "<li><a id=\"93\" data-toggle=\"tooltip\" class=\"button-linija prigrad ablin93\" title=\"SREMSKA KAMENICA (POPOVICA) - NOVI SAD (ŽELEZNIČKA STANICA)\">  74B</a></li>\n",
    "<li><a id=\"95\" data-toggle=\"tooltip\" class=\"button-linija prigrad ablin95\" title=\"NOVI SAD (ŽELEZNIČKA STANICA) - LEDINCI\">  76A</a></li>\n",
    "<li><a id=\"96\" data-toggle=\"tooltip\" class=\"button-linija prigrad ablin96\" title=\"LEDINCI - NOVI SAD (ŽELEZNIČKA STANICA) \">  76B</a></li>\n",
    "\n",
    "<li><a id=\"44\" data-toggle=\"tooltip\" class=\"button-linija medjumesni ablin44\" title=\"NOVI SAD (AUTOBUSKA STANICA) - BAČKI JARAK\">  31A</a></li>\n",
    "<li><a id=\"45\" data-toggle=\"tooltip\" class=\"button-linija medjumesni ablin45\" title=\"BAČKI JARAK - NOVI SAD (AUTOBUSKA STANICA)\">  31B</a></li>\n",
    "<li><a id=\"46\" data-toggle=\"tooltip\" class=\"button-linija medjumesni ablin46\" title=\"NOVI SAD (AUTOBUSKA STANICA) - TEMERIN\">  32A</a></li>\n",
    "<li><a id=\"47\" data-toggle=\"tooltip\" class=\"button-linija medjumesni ablin47\" title=\"TEMERIN - NOVI SAD (AUTOBUSKA STANICA)\">  32B</a></li>\n",
    "<li><a id=\"48\" data-toggle=\"tooltip\" class=\"button-linija medjumesni ablin48\" title=\"NOVI SAD (AUTOBUSKA STANICA) - GOSPOĐINCI\">  33A</a></li>\n",
    "<li><a id=\"49\" data-toggle=\"tooltip\" class=\"button-linija medjumesni ablin49\" title=\"GOSPOĐINCI - NOVI SAD (AUTOBUSKA STANICA)\">  33B</a></li>\n",
    "<li><a id=\"71\" data-toggle=\"tooltip\" class=\"button-linija medjumesni ablin71\" title=\"NOVI SAD (AUTOBUSKA STANICA) - SREMSKI KARLOVCI (BELILO 2)\">  60A</a></li>\n",
    "<li><a id=\"72\" data-toggle=\"tooltip\" class=\"button-linija medjumesni ablin72\" title=\"SREMSKI KARLOVCI (BELILO 2) - NOVI SAD (AUTOBUSKA STANICA)\">  60B</a></li>\n",
    "<li><a id=\"74\" data-toggle=\"tooltip\" class=\"button-linija medjumesni ablin74\" title=\"NOVI SAD (AUTOBUSKA STANICA) - SREMSKI KARLOVCI (VINOGRADSKA)\">  61A</a></li>\n",
    "<li><a id=\"75\" data-toggle=\"tooltip\" class=\"button-linija medjumesni ablin75\" title=\"SREMSKI KARLOVCI (VINOGRADSKA) - NOVI SAD (AUTOBUSKA STANICA)\">  61B</a></li>\n",
    "<li><a id=\"77\" data-toggle=\"tooltip\" class=\"button-linija medjumesni ablin77\" title=\"NOVI SAD (AUTOBUSKA STANICA) - SREMSKI KARLOVCI (DUDARA)\">  62A</a></li>\n",
    "<li><a id=\"78\" data-toggle=\"tooltip\" class=\"button-linija medjumesni ablin78\" title=\"SREMSKI KARLOVCI (DUDARA) - NOVI SAD (AUTOBUSKA STANICA)\">  62B</a></li>\n",
    "<li><a id=\"257\" data-toggle=\"tooltip\" class=\"button-linija medjumesni ablin257\" title=\"NOVI SAD (AUTOBUSKA STANICA) - ČORTANOVCI\">  63A</a></li>\n",
    "<li><a id=\"258\" data-toggle=\"tooltip\" class=\"button-linija medjumesni ablin258\" title=\"ČORTANOVCI - NOVI SAD (AUTOBUSKA STANICA)\">  63B</a></li>\n",
    "<li><a id=\"98\" data-toggle=\"tooltip\" class=\"button-linija medjumesni ablin98\" title=\"NOVI SAD (AUTOBUSKA STANICA) - STARI RAKOVAC\">  77A</a></li>\n",
    "<li><a id=\"99\" data-toggle=\"tooltip\" class=\"button-linija medjumesni ablin99\" title=\"STARI RAKOVAC - NOVI SAD (AUTOBUSKA STANICA)\">  77B</a></li>\n",
    "<li><a id=\"100\" data-toggle=\"tooltip\" class=\"button-linija medjumesni ablin100\" title=\"NOVI SAD (AUTOBUSKA STANICA) - BEOČIN SELO\">  78A</a></li>\n",
    "<li><a id=\"101\" data-toggle=\"tooltip\" class=\"button-linija medjumesni ablin101\" title=\"BEOČIN SELO - NOVI SAD (AUTOBUSKA STANICA)\">  78B</a></li>\n",
    "<li><a id=\"102\" data-toggle=\"tooltip\" class=\"button-linija medjumesni ablin102\" title=\"NOVI SAD (AUTOBUSKA STANICA) - ČEREVIĆ\">  79A</a></li>\n",
    "<li><a id=\"103\" data-toggle=\"tooltip\" class=\"button-linija medjumesni ablin103\" title=\"ČEREVIĆ - NOVI SAD (AUTOBUSKA STANICA)\">  79B</a></li>\n",
    "<li><a id=\"106\" data-toggle=\"tooltip\" class=\"button-linija medjumesni ablin106\" title=\"NOVI SAD (AUTOBUSKA STANICA) - BEOČIN (AUTOBUSKA STANICA)\">  80A</a></li>\n",
    "<li><a id=\"107\" data-toggle=\"tooltip\" class=\"button-linija medjumesni ablin107\" title=\"BEOČIN (AUTOBUSKA STANICA) - NOVI SAD (AUTOBUSKA STANICA)\">80B</a></li>\n",
    "<li><a id=\"109\" data-toggle=\"tooltip\" class=\"button-linija medjumesni ablin109\" title=\"NOVI SAD (AUTOBUSKA STANICA) - BANOŠTOR\">81A</a></li>\n",
    "<li><a id=\"110\" data-toggle=\"tooltip\" class=\"button-linija medjumesni ablin110\" title=\"BANOŠTOR - NOVI SAD (AUTOBUSKA STANICA)\">81B</a></li>\n",
    "<li><a id=\"111\" data-toggle=\"tooltip\" class=\"button-linija medjumesni ablin111\" title=\"NOVI SAD (AUTOBUSKA STANICA) - LUG\">84A</a></li>\n",
    "<li><a id=\"112\" data-toggle=\"tooltip\" class=\"button-linija medjumesni ablin112\" title=\"LUG - NOVI SAD (AUTOBUSKA STANICA)\">84B</a></li>\n",
    "<li><a id=\"263\" data-toggle=\"tooltip\" class=\"button-linija medjumesni ablin263\" title=\"NOVI SAD (AUTOBUSKA STANICA) - VRDNIK\">86A</a></li>\n",
    "<li><a id=\"264\" data-toggle=\"tooltip\" class=\"button-linija medjumesni ablin264\" title=\"VRDNIK - NOVI SAD (AUTOBUSKA STANICA)\">86B</a></li>\n",
    "</ul> \"\"\"\n",
    "\n",
    "sve_stanice = re.findall(r\"id=\\\"\\d+\", id_to_line_string)"
   ],
   "metadata": {
    "collapsed": false
   }
  },
  {
   "cell_type": "code",
   "execution_count": null,
   "outputs": [],
   "source": [
    "sve_prave_stanice = re.findall(r\"\\d+\", id_to_line_string)"
   ],
   "metadata": {
    "collapsed": false
   }
  },
  {
   "cell_type": "code",
   "execution_count": null,
   "outputs": [],
   "source": [
    "sve_stanice"
   ],
   "metadata": {
    "collapsed": false
   }
  },
  {
   "cell_type": "code",
   "execution_count": null,
   "outputs": [],
   "source": [
    "sve_stanice = [x[4:] for x in sve_stanice]"
   ],
   "metadata": {
    "collapsed": false
   }
  },
  {
   "cell_type": "code",
   "execution_count": null,
   "outputs": [],
   "source": [
    "len(sve_stanice)"
   ],
   "metadata": {
    "collapsed": false
   }
  },
  {
   "cell_type": "code",
   "execution_count": null,
   "outputs": [],
   "source": [
    "sve_prave_stanice = re.findall(r\"\\d+[A-Z]+\", id_to_line_string)"
   ],
   "metadata": {
    "collapsed": false
   }
  },
  {
   "cell_type": "code",
   "execution_count": null,
   "outputs": [],
   "source": [
    "len(sve_prave_stanice)"
   ],
   "metadata": {
    "collapsed": false
   }
  },
  {
   "cell_type": "code",
   "execution_count": null,
   "outputs": [],
   "source": [
    "dict_prave_u_id = dict(zip(sve_prave_stanice, sve_stanice))"
   ],
   "metadata": {
    "collapsed": false
   }
  },
  {
   "cell_type": "markdown",
   "source": [],
   "metadata": {
    "collapsed": false
   }
  },
  {
   "cell_type": "code",
   "execution_count": null,
   "outputs": [],
   "source": [
    "dict_prave_u_id"
   ],
   "metadata": {
    "collapsed": false
   }
  },
  {
   "cell_type": "code",
   "execution_count": null,
   "outputs": [],
   "source": [
    "import pandas as pd\n",
    "import requests\n",
    "\n",
    "\n",
    "def get_linija_stanice(linija_id):\n",
    "    url = \"https://gspns.rs/mreza-get-linija-tacke\"\n",
    "    params = {\n",
    "        \"linija\": linija_id\n",
    "    }\n",
    "    try:\n",
    "        response = requests.get(url, params=params, verify = False)\n",
    "        response.raise_for_status()\n",
    "        data = response.json()\n",
    "        return data\n",
    "    except requests.exceptions.RequestException as e:\n",
    "        print(\"Error:\", e)\n",
    "        return None\n",
    "\n",
    "linije_df = pd.DataFrame(columns=[\"ID linije\", \"Lista skretanja\"])\n",
    "linije_id = ['1A', '1B', '1ZA', '1ZB', '2A', '2B', '3A', '3B', '3AA', '3AB', '3BA', '3BB', '4A', '4B', '5A', '5B', '5NA', '5NB', '6A', '6B', '6AA', '6AB', '7A', '7B', '8A', '8B', '9A', '9B', '9AA', '9AB', '10A', '10B', '11A', '11B', '12A', '12B', '13A', '13B', '14A', '14B', '15A', '15B', '16A', '16B', '17A', '18A', '18B', '19A', '19B', '20A', '20B', '21A', '21B', '25A', '25B', '68A', '68B', '69A', '69B', '71A', '71B', '22A', '22B', '23A', '23B', '24A', '24B', '30A', '30B', '35A', '35B', '41A', '41B', '42A', '42B', '43A', '43B', '51A', '51B', '52A', '52B', '53A', '53B', '54A', '54B', '55A', '55B', '56A', '56B', '64A', '64B', '72A', '72B', '73A', '73B', '74A', '74B', '76A', '76B', '31A', '31B', '32A', '32B', '33A', '33B', '60A', '60B', '61A', '61B', '62A', '62B', '63A', '63B', '77A', '77B', '78A', '78B', '79A', '79B', '80A', '80B', '81A', '81B', '84A', '84B', '86A', '86B']\n",
    "\n",
    "for linija_id in dict_prave_u_id.keys():\n",
    "    stanice = get_linija_stanice(dict_prave_u_id[linija_id])\n",
    "    nova_linija = {\"ID linije\": linija_id, \"Lista skretanja\" : stanice}\n",
    "    linije_df = linije_df.append(nova_linija, ignore_index = True)\n",
    "\n",
    "print(linije_df)\n",
    "linije_df.to_csv(\"linije.csv\", index = False)"
   ],
   "metadata": {
    "collapsed": false
   }
  },
  {
   "cell_type": "code",
   "execution_count": null,
   "outputs": [],
   "source": [
    "'''\n",
    "import ast\n",
    "\n",
    "linijeDF = pd.read_csv(\"stajalista.csv\")\n",
    "dictionary = {}\n",
    "for _, line in linijeDF.iterrows():\n",
    "    #ast literal eval je funkcija koja pretvara string u listu\n",
    "    dictionary[line['ID linije']] = ast.literal_eval(line['Lista stanica'])\n",
    "'''"
   ],
   "metadata": {
    "collapsed": false
   }
  },
  {
   "cell_type": "code",
   "execution_count": null,
   "outputs": [],
   "source": [
    "#dictionary['5A'][0]"
   ],
   "metadata": {
    "collapsed": false
   }
  }
 ],
 "metadata": {
  "kernelspec": {
   "display_name": "Python 3",
   "language": "python",
   "name": "python3"
  },
  "language_info": {
   "codemirror_mode": {
    "name": "ipython",
    "version": 2
   },
   "file_extension": ".py",
   "mimetype": "text/x-python",
   "name": "python",
   "nbconvert_exporter": "python",
   "pygments_lexer": "ipython2",
   "version": "2.7.6"
  }
 },
 "nbformat": 4,
 "nbformat_minor": 0
}
