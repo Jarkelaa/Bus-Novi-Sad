{
 "cells": [
  {
   "cell_type": "code",
   "execution_count": null,
   "metadata": {},
   "outputs": [],
   "source": [
    "import pandas as pd\n",
    "from selenium import webdriver\n",
    "from selenium.webdriver.chrome.service import Service\n",
    "from webdriver_manager.chrome import ChromeDriverManager\n",
    "from selenium.webdriver.common.by import By\n",
    "import time"
   ]
  },
  {
   "cell_type": "code",
   "execution_count": null,
   "metadata": {},
   "outputs": [],
   "source": [
    "url = \"http://www.gspns.rs/red-voznje/{}\"\n",
    "\n",
    "oblasti = {\"gradski\": 1, \"prigradski\": 2}\n",
    "dani = {\"radni dan\" : 1, \"subota\" : 2, \"nedelja\" : 3}\n",
    "\n",
    "df = pd.DataFrame(columns=[\"ID linije\", \"Lista polazaka\"])"
   ]
  },
  {
   "cell_type": "code",
   "execution_count": null,
   "metadata": {},
   "outputs": [],
   "source": [
    "driver = webdriver.Chrome(service=Service(ChromeDriverManager().install()))\n",
    "driver.maximize_window()\n",
    "driver.get(url.format(\"gradski\"))"
   ]
  },
  {
   "cell_type": "code",
   "execution_count": null,
   "metadata": {},
   "outputs": [],
   "source": [
    "#menjanje dana\n",
    "def promeni_dan(dan):\n",
    "    try:\n",
    "        driver.find_element(By.CSS_SELECTOR, '#dan > option:nth-child({})'.format(dan)).click()\n",
    "    except:\n",
    "        pass\n"
   ]
  },
  {
   "cell_type": "code",
   "execution_count": null,
   "metadata": {},
   "outputs": [],
   "source": [
    "#otvori sve linije\n",
    "def otvori_sve_linije():\n",
    "    br_linija = len(driver.find_elements(By.CSS_SELECTOR, '#linija > option'))\n",
    "    for linija in range(1, br_linija + 1):\n",
    "        try:\n",
    "            driver.find_element(By.CSS_SELECTOR, '#linija > option:nth-child({})'.format(linija)).click()\n",
    "        except:\n",
    "            pass\n",
    "    try:\n",
    "        driver.find_element(By.CSS_SELECTOR, '#rvform > button').click()\n",
    "    except:\n",
    "        pass"
   ]
  },
  {
   "cell_type": "code",
   "execution_count": null,
   "metadata": {},
   "outputs": [],
   "source": [
    "#menjanje oblasti\n",
    "def promeni_oblast(oblast):\n",
    "    try:\n",
    "        driver.find_element(By.CSS_SELECTOR, '#rv > option:nth-child({})'.format(oblast)).click()\n",
    "    except:\n",
    "        pass"
   ]
  },
  {
   "cell_type": "code",
   "execution_count": null,
   "metadata": {},
   "outputs": [],
   "source": [
    "#svi polasci za dati dan i liniju\n",
    "def get_polasci_oblast(dan, oblast):\n",
    "    promeni_oblast(oblasti[oblast])\n",
    "    time.sleep(0.5)\n",
    "    promeni_dan(dan)\n",
    "    time.sleep(0.5)\n",
    "    otvori_sve_linije()\n",
    "    time.sleep(0.5)\n",
    "    br_linija = len(driver.find_elements(By.CSS_SELECTOR, '#linija > option'))\n",
    "    for tabela in range(br_linija + 1):\n",
    "        redni_br_polaska = 0\n",
    "        polasci = []\n",
    "        while(True):\n",
    "            try:\n",
    "                driver.find_element(By.CSS_SELECTOR, '#ispis-polazaka > table:nth-child({}) > tbody > tr:nth-child(2) > td:nth-child(1) > b:nth-child({})'.format(2 + 3 * tabela, 2 + redni_br_polaska)).click()\n",
    "            except:\n",
    "                break\n",
    "            try:\n",
    "                driver.find_element(By.CSS_SELECTOR, '#ispis-polazaka > table:nth-child({}) > tbody > tr:nth-child(2) > td:nth-child(1) > sup:nth-child({}) > font > span'.format(2 + 3 * tabela, 2 + redni_br_polaska+1)).click()\n",
    "            except:\n",
    "                break\n",
    "            polazak = driver.find_element(By.CSS_SELECTOR, '#ispis-polazaka > table:nth-child({}) > tbody > tr:nth-child(2) > td:nth-child(1) > b:nth-child({})'.format(2 + 3 * tabela, 2 + redni_br_polaska)).text\n",
    "            polasci.append(polazak)\n",
    "            redni_br_polaska += 1\n",
    "            time.sleep(0.5)\n",
    "        df.append({\"ID linije\": tabela, \"Lista polazaka\": polasci}, ignore_index=True)\n"
   ]
  },
  {
   "cell_type": "code",
   "execution_count": null,
   "metadata": {},
   "outputs": [],
   "source": [
    "def get_polasci(dan):\n",
    "    get_polasci_oblast(dan, \"gradski\")\n",
    "    get_polasci_oblast(dan, \"prigradski\")"
   ]
  },
  {
   "cell_type": "code",
   "execution_count": null,
   "metadata": {},
   "outputs": [],
   "source": [
    "#svi polasci za sve dane i linije\n",
    "def get_raspored():\n",
    "    for dan in dani:\n",
    "        get_polasci(dani[dan])"
   ]
  },
  {
   "cell_type": "code",
   "execution_count": null,
   "metadata": {},
   "outputs": [],
   "source": [
    "#ispis-polazaka > table:nth-child(2) > tbody > tr:nth-child(2) > td:nth-child(1) > b:nth-child(2) prva tabela 1\n",
    "#ispis-polazaka > table:nth-child(5) > tbody > tr:nth-child(2) > td:nth-child(1) > b:nth-child(2) druga tabela 1\n",
    "#ispis-polazaka > table:nth-child(8) > tbody > tr:nth-child(2) > td:nth-child(1) > b:nth-child(2) treca tabela 1\n",
    "#ispis-polazaka > table:nth-child(11) > tbody > tr:nth-child(2) > td:nth-child(1) > b:nth-child(2) cetvrta tabela 1"
   ]
  },
  {
   "cell_type": "code",
   "execution_count": null,
   "metadata": {},
   "outputs": [],
   "source": [
    "get_raspored()"
   ]
  }
 ],
 "metadata": {
  "kernelspec": {
   "display_name": "Python 3",
   "language": "python",
   "name": "python3"
  },
  "language_info": {
   "codemirror_mode": {
    "name": "ipython",
    "version": 3
   },
   "file_extension": ".py",
   "mimetype": "text/x-python",
   "name": "python",
   "nbconvert_exporter": "python",
   "pygments_lexer": "ipython3",
   "version": "3.9.13"
  },
  "orig_nbformat": 4
 },
 "nbformat": 4,
 "nbformat_minor": 2
}
